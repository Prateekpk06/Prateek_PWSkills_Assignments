{
  "nbformat": 4,
  "nbformat_minor": 0,
  "metadata": {
    "colab": {
      "provenance": []
    },
    "kernelspec": {
      "name": "python3",
      "display_name": "Python 3"
    },
    "language_info": {
      "name": "python"
    }
  },
  "cells": [
    {
      "cell_type": "markdown",
      "source": [
        "#Theoretical Questions"
      ],
      "metadata": {
        "id": "ba5XSAYEe_2h"
      }
    },
    {
      "cell_type": "markdown",
      "source": [
        "1. What is oops?\n",
        "->It is a programming way of writing and structuring code based on the concept of “objects”.\n",
        "These objects represent real-world entities and are used to model both data  and the behavior of those entities.\n",
        "It is a framework of Class and objects. Where class holds definition of each of its objects.\n"
      ],
      "metadata": {
        "id": "kcRiJteVfDl2"
      }
    },
    {
      "cell_type": "markdown",
      "source": [
        "2. What is a class?\n",
        "\n",
        "-> In Object-Oriented Programming (OOP), a class is a blueprint or template for creating objects.\n",
        "It defines:\n",
        "Attributes and Methods\n"
      ],
      "metadata": {
        "id": "tkdhhRwBfKDr"
      }
    },
    {
      "cell_type": "markdown",
      "source": [
        "3. What is an object in oop?\n",
        "-> In Object-Oriented Programming (OOP), an object is a specific instance of a class.\n",
        "It is a real-world entity that contains:\n",
        "Attributes and Methods. Attributes are nothing but variables which defines the property of a class and Methods are functions of the class.\n"
      ],
      "metadata": {
        "id": "-XXOPFy9fQXK"
      }
    },
    {
      "cell_type": "markdown",
      "source": [
        "4. What is the difference between abstraction and encapsulation?\n",
        "-> Abstraction means hiding the internal implementation details and showing only what is necessary to the user.\n",
        "Encapsulation means binding data and methods that operate on the data into a single unit (class), and restricting direct access to some of the object’s components.\n",
        "Encapsulation is generally used with private methods and property- when you do not want someone else to update your class’s any property.\n"
      ],
      "metadata": {
        "id": "D24ZVoG6fV7i"
      }
    },
    {
      "cell_type": "markdown",
      "source": [
        "5. What are dunder methods?\n",
        "-> Dunder methods (short for “double underscore” methods) are special built-in methods in Python that start and end with double underscores, like __init__, __str__, __add__, etc.\n",
        "These are also called magic methods or special methods and are used to define or customize how objects behave in certain situations eg: __add__ can add 2 numbers as well as concatenate two strings.\n"
      ],
      "metadata": {
        "id": "am-tb-q2fatG"
      }
    },
    {
      "cell_type": "markdown",
      "source": [
        "6. Explain concept of inheritance in oops?\n",
        "-> Inheritance is a concept which involves child and parent classes. It means that child class can inherit properties of the parent class. They can inherit the variables and also methods of parent class.\n",
        "There are different types of inheritance: eg: Multiple inheritance, single inheritance, multilevel inheritance and so on\n"
      ],
      "metadata": {
        "id": "4v31pSb8fiWP"
      }
    },
    {
      "cell_type": "markdown",
      "source": [
        "7. What is polymorphism in oops?\n",
        "-> Polymorphism means “many forms” — it allows objects of different classes to be treated as objects of a common superclass, while behaving differently depending on their actual class.\n",
        "It lets the same method name or operator perform different tasks depending on the object calling it.\n",
        "Eg: Child class can have a method with same method name as parent class but can behave differently.\n"
      ],
      "metadata": {
        "id": "jbDXkLYffnuy"
      }
    },
    {
      "cell_type": "markdown",
      "source": [
        "8. What is a constructor in python?\n",
        "-> constructor in Python is a special method used to initialize a newly created object of a class.\n",
        "__init__(self, ...)\n",
        "It automatically runs when you create an object from a class.\n",
        "It sets up the initial values of the object’s attributes (variables).\n"
      ],
      "metadata": {
        "id": "CADbRqOdftcm"
      }
    },
    {
      "cell_type": "markdown",
      "source": [
        "9. How is encapsulation achieved in python?\n",
        "-> Encapsulation is the process of hiding the internal state of an object and restricting direct access to it.\n",
        "In Python, encapsulation is achieved through:\n",
        "Access modifiers (public, private and protected)\n",
        "Using @property decorator\n",
        "Using getter and setter methods\n"
      ],
      "metadata": {
        "id": "rK8GHf_Ufyn2"
      }
    },
    {
      "cell_type": "markdown",
      "source": [
        "10. What are class and static methods in python?\n",
        "-> Normal methods take self as a parameter for any of the class functions but class method takes cls as a parameter\n",
        "Can access/modify class variables\n",
        "Declared with the @classmethod decorator\n",
        "Called on class or instance, but works at class level\n",
        "Static method:\n",
        "Cannot access instance or class data directly\n",
        "Declared with the @staticmethod decorator"
      ],
      "metadata": {
        "id": "7HocOObBf55X"
      }
    },
    {
      "cell_type": "markdown",
      "source": [
        "11. What is method overloading in python?\n",
        "->Method overloading means defining multiple methods with the same name but different parameters (number or type) so that the correct method is chosen depending on the arguments passed.\n",
        "\n",
        "Python does not support traditional method overloading.\n",
        "If we define multiple methods with the same name in a class, the last definition overwrites the previous ones.\n",
        "\n",
        "Ways for method overloading in python:\n",
        "1. Default arguments\n",
        "2. Variable arguments (*args, **kwargs)\n",
        "3. Type checking"
      ],
      "metadata": {
        "id": "Glyn9pkLgAR1"
      }
    },
    {
      "cell_type": "markdown",
      "source": [
        "12. What is method overriding in OOP?\n",
        "-> Method overriding happens when a child class defines a method with the same name, parameters, and return type as a method in its parent class, but provides a different implementation.\n",
        "When we call that method on a child object, the child class version runs instead of the parent's.\n",
        "\n",
        "It must be inherited from a parent class.\n",
        "The method name and parameters must be the same.\n",
        "The child's method replaces (overrides) the parent's method at runtime.\n",
        "\n",
        "Used for runtime polymorphism (deciding which method to run at runtime)."
      ],
      "metadata": {
        "id": "N6b77amwhFHL"
      }
    },
    {
      "cell_type": "code",
      "execution_count": null,
      "metadata": {
        "id": "LNCOlzfNe5uO"
      },
      "outputs": [],
      "source": []
    },
    {
      "cell_type": "markdown",
      "source": [
        "13. what is property decorator in python?\n",
        "\n",
        "->The @property decorator in Python is a way to make a method behave like an attribute.\n",
        "It allows us to define getters, setters, and deleters for class attributes without calling them like functions.\n",
        "\n",
        "It's part of Python's encapsulation mechanism — you can control access to a class' internal variables while still using simple attribute syntax."
      ],
      "metadata": {
        "id": "bpyp4ZThhdEO"
      }
    },
    {
      "cell_type": "markdown",
      "source": [
        "14. Why is polymorphism important in OOP?\n",
        "\n",
        "->Polymorphism is important in Object-Oriented Programming (OOP) because it makes code flexible, reusable, and easier to maintain.\n",
        "\n",
        "It allows different classes to have methods with the same name but behave differently.\n",
        "Importance of Polymorphism:\n",
        "1. Cleaner and reusable code\n",
        "2. Enables method overriding etc"
      ],
      "metadata": {
        "id": "QhanV2O2iH_U"
      }
    },
    {
      "cell_type": "markdown",
      "source": [
        "15. What is an abstract class in Python?\n",
        "\n",
        "->An abstract class in Python is a blueprint for other classes — it defines methods that must be implemented by any subclass, but it cannot be instantiated itself.\n",
        "An abstract class in Python is a blueprint for other classes — it defines methods that must be implemented by any subclass, but it cannot be instantiated itself.\n",
        "\n",
        "It Cannot be instantiated — we can't create an object directly from an abstract class.\n",
        "\n",
        "It Can have abstract methods — methods declared but not implemented.\n",
        "\n",
        "It Can have normal methods — subclasses can inherit them.\n",
        "\n",
        "Enforced using abc module @abstractmethod.\n",
        "\n"
      ],
      "metadata": {
        "id": "4c6Hs4rNis2n"
      }
    },
    {
      "cell_type": "markdown",
      "source": [
        "16. what are the benefits of OOP?\n",
        "\n",
        "-> The benefits of OOPs are as below:\n",
        "\n",
        "1. Modularity\n",
        "Code is divided into classes and objects, making it organized.\n",
        "\n",
        "Changes in one class don't break other parts of the code if designed well.\n",
        "\n",
        "2. Reusability\n",
        "Inheritance lets us reuse existing code instead of writing it again.\n",
        "\n",
        "For example, a Vehicle class can be reused for Car, Bike, and Bus.\n",
        "\n",
        "3. Scalability & Maintainability\n",
        "Easier to update or extend features without rewriting large parts of the program.\n",
        "\n",
        "Bugs can be fixed in a single place (inside a class) rather than multiple files.\n",
        "\n",
        "4. Abstraction\n",
        "Hides complex details from the user, exposing only what's necessary.\n",
        "\n",
        "Makes APIs and libraries easier to use.\n",
        "\n",
        "5. Encapsulation\n",
        "Protects data by restricting direct access.\n",
        "\n",
        "Helps prevent accidental changes to important values.\n",
        "6. Polymorphism\n",
        "Same interface, different behavior.\n",
        "\n",
        "Allows you to write flexible and adaptable code that can work with different object types.\n",
        "\n",
        "7. Better Collaboration\n",
        "Teams can work on different classes/modules independently without stepping on each other's code.\n",
        "\n"
      ],
      "metadata": {
        "id": "YXvIOw-jjJAO"
      }
    },
    {
      "cell_type": "markdown",
      "source": [
        "17. What is the difference between a class variable and an instance variable?\n",
        "\n",
        "->\n",
        "Class Variable:\n",
        "1. It is shared by all objects (instances) of a class.\n",
        "2. It belongs to the class itself, not to any specific object.\n",
        "3. changing it affects all instances (unless overridden in an object).\n",
        "4. It is declared inside the class, but outside any method.\n",
        "\n",
        "Instance Variable:\n",
        "1. It is unique to each object.\n",
        "2. It belongs to a specific instance of the class.\n",
        "3. Changing it affects only that object.\n",
        "4. Usually declared inside the constructor (__init__) or other methods."
      ],
      "metadata": {
        "id": "4JABRAFsj-wQ"
      }
    },
    {
      "cell_type": "markdown",
      "source": [
        "18. What is multiple inheritance in Python?\n",
        "->Multiple inheritance in Python means a class can inherit attributes and methods from more than one parent class.\n",
        "\n",
        "It allows a child class to combine functionality from multiple base classes.\n",
        "class Parent1:\n",
        "    def methodParent(self):\n",
        "        print(\"This is method1 from Parent1\")\n",
        "\n",
        "class Parent2:\n",
        "    def methodParent2(self):\n",
        "        print(\"This is method2 from Parent2\")\n",
        "\n",
        "class Child(Parent1, Parent2):\n",
        "    pass\n",
        "\n",
        "obj = Child()\n",
        "obj.methodParent()\n",
        "obj.methodParent2()  \n",
        "\n",
        "child class can access methods and parameters of both parent classes."
      ],
      "metadata": {
        "id": "e-pv1wvCk9up"
      }
    },
    {
      "cell_type": "markdown",
      "source": [
        "19. Explain the purpose of ‘’__str__’ and ‘__repr__’ ‘ methods in Python?\n",
        "\n",
        "-> These are builtin dunder methods:\n",
        "__repr__:\n",
        "Purpose: Give a developer-friendly string representation of the object.\n",
        "\n",
        "Goal: Be unambiguous and, ideally, allow you to recreate the object.\n",
        "Called by:\n",
        "\n",
        "repr(obj)\n",
        "The interactive shell (when you just type the variable name)\n",
        "Debugging/logging\n",
        "\n",
        "__str__:\n",
        "Purpose: Give a readable, nicely formatted string for the end user.\n",
        "\n",
        "Goal: Be informal and easy to read.\n",
        "\n",
        "Called by:\n",
        "\n",
        "str(obj)"
      ],
      "metadata": {
        "id": "Ra2miQ_umEiX"
      }
    },
    {
      "cell_type": "markdown",
      "source": [
        "20. What is the significance of the 'super()' function in Python?\n",
        "->The super() function in Python is used to call methods from a parent (super) class without explicitly naming it.\n",
        "\n",
        "Purpose:\n",
        "1. Access parent class methods without hardcoding the parent class name.\n",
        "\n",
        "2. Makes code more maintainable — if you change the parent class name, you don't need to update all child classes.\n",
        "\n",
        "3. It Helps in multiple inheritance by ensuring the Method Resolution Order (MRO) is followed correctly.\n",
        "\n",
        "4. Commonly used in the constructor (__init__) to initialize the parent's attributes."
      ],
      "metadata": {
        "id": "L3adiy46m0hc"
      }
    },
    {
      "cell_type": "markdown",
      "source": [
        "21. What is the significance of the __del__ method in Python?\n",
        "->The __del__ method in Python is called a destructor.\n",
        "It is automatically invoked when an object is about to be destroyed — that is, when it's no longer in use and about to be garbage-collected.\n",
        "\n",
        "Its main purpose is to free resources or perform cleanup tasks before the object is removed from memory.\n",
        "\n",
        "It is used to:\n",
        "1. Close file handles or network connections.\n",
        "2. Release external resources (e.g., database connections, sockets).\n",
        "3. Log object deletion for debugging."
      ],
      "metadata": {
        "id": "wu-pqAfzne4T"
      }
    },
    {
      "cell_type": "markdown",
      "source": [
        "22. What is the difference between @staticmethod and @classmethod in Python?\n",
        "\n",
        "->In Python, both @staticmethod and @classmethod are decorators used to define methods inside a class that are not regular instance methods — but they serve different purposes.\n",
        "\n",
        "@staticmethod\n",
        "Does not take self or cls as the first argument.\n",
        "Works just like a normal function but lives inside a class for logical grouping.\n",
        "Cannot access or modify instance variables (self) or class variables (cls).\n",
        "\n",
        "@classmethod\n",
        "Takes cls (class reference) as the first argument.\n",
        "Can access and modify class variables but not instance variables (unless you create an instance inside it)."
      ],
      "metadata": {
        "id": "qq6OpA4YoFBm"
      }
    },
    {
      "cell_type": "markdown",
      "source": [],
      "metadata": {
        "id": "2zs90KT7j6N4"
      }
    },
    {
      "cell_type": "markdown",
      "source": [
        "23. How does polymorphism work in Python with inheritance?\n",
        "\n",
        "->Polymorphism in Python with inheritance means different classes can define the same method name, but each class can implement it differently, and Python will decide which method to run at runtime based on the object's actual type — not the variable's type.\n",
        "\n",
        "It works as below:\n",
        "1. We define a base class with a method.\n",
        "2. We create subclasses that inherit from the base class and override that method.\n",
        "3. When we call the method on a variable, Python looks at the actual object type and calls the correct version.\n",
        "\n",
        "class Animal:\n",
        "    def speak(self):\n",
        "        return \"Some sound\"\n",
        "\n",
        "class Dog(Animal):\n",
        "    def speak(self):\n",
        "        return \"bark!\"\n",
        "\n",
        "class Cat(Animal):\n",
        "    def speak(self):\n",
        "        return \"Meow!\"\n",
        "\n",
        "animals = [Dog(), Cat(), Animal()]\n",
        "\n",
        "for animal in animals:\n",
        "    print(animal.speak())\n",
        "\n",
        "If child class has the method then python runs it else it looks at base class and runs that method.\n"
      ],
      "metadata": {
        "id": "WwlIiKlhogel"
      }
    },
    {
      "cell_type": "markdown",
      "source": [
        "24. What is method chaining in Python OOP?\n",
        "-> Method chaining in Python OOP is a technique where we call multiple methods on the same object in a single line, by having each method return the object itself (self).\n",
        "Inside each method of a class, instead of returning something else (or None), we return self.\n",
        "This allows the next method to be called directly on the returned object.\n",
        "\n",
        "Example:\n",
        "\n",
        "class Person:\n",
        "    def __init__(self, name=\"\"):\n",
        "        self.name = name\n",
        "        self.age = None\n",
        "        self.city = None\n",
        "\n",
        "    def set_name(self, name):\n",
        "        self.name = name\n",
        "        return self  # returning the same object\n",
        "\n",
        "    def set_age(self, age):\n",
        "        self.age = age\n",
        "        return self\n",
        "\n",
        "    def set_city(self, city):\n",
        "        self.city = city\n",
        "        return self\n",
        "\n",
        "    def show_info(self):\n",
        "        print(f\"Name: {self.name}, Age: {self.age}, City: {self.city}\")\n",
        "        return self\n",
        "\n",
        "#calling all the methods in a single line as below:\n",
        "\n",
        "person = Person().set_name(\"Alice\").set_age(30).set_city(\"Mumbai\").show_info()\n"
      ],
      "metadata": {
        "id": "6R6H9FnbpbJr"
      }
    },
    {
      "cell_type": "markdown",
      "source": [
        "25. What is the purpose of the __call__ method in Python?\n",
        "->In Python, the __call__ method allows an instance of a class to be called like a function.\n",
        "\n",
        "If a class defines __call__, we can use its object as if it were a function — passing arguments and executing logic inside that method.\n",
        "\n",
        "Example:\n",
        "class Greeter:\n",
        "    def __init__(self, greeting):\n",
        "        self.greeting = greeting\n",
        "\n",
        "    def __call__(self, name):\n",
        "        return f\"{self.greeting}, {name}!\"\n",
        "\n",
        "#setting greeting as Hello\n",
        "greet = Greeter(\"Hello\")\n",
        "\n",
        "#calling name\n",
        "print(greet(\"Alice\"))\n",
        "\n",
        "Output: Hello Alice\n",
        "\n"
      ],
      "metadata": {
        "id": "U-vouASFp-tu"
      }
    },
    {
      "cell_type": "markdown",
      "source": [
        "######Practical Questions#######"
      ],
      "metadata": {
        "id": "ME9Sr5gaqzi6"
      }
    },
    {
      "cell_type": "code",
      "source": [
        "#1. Create a parent class Animal with a method speak() that prints a generic message. Create a child class Dog\n",
        "#that overrides the speak() method to print \"Bark!\".\n",
        "\n",
        "class Animal:\n",
        "    def speak(self):\n",
        "        print(\"Generic message: This animal makes a sound.\")\n",
        "\n",
        "class Dog(Animal):\n",
        "    def speak(self):\n",
        "        print(\"Dog message: Bark!\")\n",
        "\n",
        "\n",
        "animal = Animal()\n",
        "animal.speak()\n",
        "\n",
        "dog = Dog()\n",
        "dog.speak()\n"
      ],
      "metadata": {
        "colab": {
          "base_uri": "https://localhost:8080/"
        },
        "id": "C7Y9CKBnq2Mp",
        "outputId": "32ec0a37-71b1-4570-cb52-c866e9bbb3ac"
      },
      "execution_count": 1,
      "outputs": [
        {
          "output_type": "stream",
          "name": "stdout",
          "text": [
            "Generic message: This animal makes a sound.\n",
            "Dog message: Bark!\n"
          ]
        }
      ]
    },
    {
      "cell_type": "code",
      "source": [
        "#2.  Write a program to create an abstract class Shape with a method area(). Derive classes Circle and Rectangle\n",
        "#from it and implement the area() method in both\n",
        "\n",
        "from abc import ABC, abstractmethod\n",
        "import math\n",
        "\n",
        "# Abstract class\n",
        "class Shape(ABC):\n",
        "    @abstractmethod\n",
        "    def area(self):\n",
        "        pass\n",
        "\n",
        "# Circle class\n",
        "class Circle(Shape):\n",
        "    def __init__(self, radius):\n",
        "        self.radius = radius\n",
        "\n",
        "    def area(self):\n",
        "        return math.pi * self.radius ** 2\n",
        "\n",
        "# Rectangle class\n",
        "class Rectangle(Shape):\n",
        "    def __init__(self, length, width):\n",
        "        self.length = length\n",
        "        self.width = width\n",
        "\n",
        "    def area(self):\n",
        "        return self.length * self.width\n",
        "\n",
        "circle = Circle(10)\n",
        "rectangle = Rectangle(5, 10)\n",
        "\n",
        "print(f\"Area of Circle: {circle.area()}\")\n",
        "print(f\"Area of Rectangle: {rectangle.area()}\")\n"
      ],
      "metadata": {
        "colab": {
          "base_uri": "https://localhost:8080/"
        },
        "id": "ZeIIzes4rQri",
        "outputId": "99847e93-d388-4e31-fb7a-2b432bb76bd7"
      },
      "execution_count": 2,
      "outputs": [
        {
          "output_type": "stream",
          "name": "stdout",
          "text": [
            "Area of Circle: 314.1592653589793\n",
            "Area of Rectangle: 50\n"
          ]
        }
      ]
    },
    {
      "cell_type": "code",
      "source": [
        "#3.  Implement a multi-level inheritance scenario where a class Vehicle has an attribute type. Derive a class Car\n",
        "#and further derive a class ElectricCar that adds a battery attribute\n",
        "# Base class\n",
        "class Vehicle:\n",
        "    def __init__(self, vehicle_type):\n",
        "        self.type = vehicle_type\n",
        "\n",
        "    def show_info(self):\n",
        "        print(f\"Vehicle Type: {self.type}\")\n",
        "\n",
        "# Derived class from Vehicle\n",
        "class Car(Vehicle):\n",
        "    def __init__(self, vehicle_type, brand):\n",
        "        super().__init__(vehicle_type)\n",
        "        self.brand = brand\n",
        "\n",
        "    def show_info(self):\n",
        "        super().show_info()\n",
        "        print(f\"Brand: {self.brand}\")\n",
        "\n",
        "# Further derived class from Car\n",
        "class ElectricCar(Car):\n",
        "    def __init__(self, vehicle_type, brand, battery_capacity):\n",
        "        super().__init__(vehicle_type, brand)\n",
        "        self.battery = battery_capacity\n",
        "\n",
        "    def show_info(self):\n",
        "        super().show_info()\n",
        "        print(f\"Battery Capacity: {self.battery} kWh\")\n",
        "\n",
        "# Usage\n",
        "e_car = ElectricCar(\"Four Wheeler\", \"Tesla\", 75)\n",
        "e_car.show_info()\n"
      ],
      "metadata": {
        "colab": {
          "base_uri": "https://localhost:8080/"
        },
        "id": "UZK4KAFJry8k",
        "outputId": "270c1d61-2c43-42eb-f5d4-61440e0bf282"
      },
      "execution_count": 3,
      "outputs": [
        {
          "output_type": "stream",
          "name": "stdout",
          "text": [
            "Vehicle Type: Four Wheeler\n",
            "Brand: Tesla\n",
            "Battery Capacity: 75 kWh\n"
          ]
        }
      ]
    },
    {
      "cell_type": "code",
      "source": [
        "#4.  Demonstrate polymorphism by creating a base class Bird with a method fly(). Create two derived classes\n",
        "#Sparrow and Penguin that override the fly() method.\n",
        "\n",
        "# Base class\n",
        "class Bird:\n",
        "    def fly(self):\n",
        "        print(\"Birds can fly\")\n",
        "\n",
        "# Derived class - Sparrow\n",
        "class Sparrow(Bird):\n",
        "    def fly(self):\n",
        "        print(\"SSparrow flies\")\n",
        "\n",
        "# Derived class - Penguin\n",
        "class Penguin(Bird):\n",
        "    def fly(self):\n",
        "        print(\"penguins don't fly\")\n",
        "\n",
        "# Function demonstrating polymorphism\n",
        "def show_flight(bird_obj):\n",
        "    bird_obj.fly()\n",
        "\n",
        "# Usage\n",
        "birds = [Sparrow(), Penguin(), Bird()]\n",
        "\n",
        "for b in birds:\n",
        "    show_flight(b)\n",
        "\n"
      ],
      "metadata": {
        "colab": {
          "base_uri": "https://localhost:8080/"
        },
        "id": "oEe-KMkjs8gs",
        "outputId": "9ed84dbc-36e6-42fb-a2c1-30c600aff06a"
      },
      "execution_count": 4,
      "outputs": [
        {
          "output_type": "stream",
          "name": "stdout",
          "text": [
            "SSparrow flies\n",
            "penguins don't fly\n",
            "Birds can fly\n"
          ]
        }
      ]
    },
    {
      "cell_type": "code",
      "source": [
        "#5. Write a program to demonstrate encapsulation by creating a class BankAccount with private attributes\n",
        "#balance and methods to deposit, withdraw, and check balance.\n",
        "\n",
        "class BankAccount:\n",
        "    def __init__(self, initial_balance=0):\n",
        "        self._balance = initial_balance\n",
        "\n",
        "    def deposit(self, amount):\n",
        "        if amount > 0:\n",
        "            self._balance += amount\n",
        "    def withdraw(self, amount):\n",
        "        if 0 < amount <= self._balance:\n",
        "            self._balance -= amount\n",
        "    def check_balance(self):\n",
        "        return self._balance\n",
        "\n",
        "bank_obj = BankAccount(1000)\n",
        "bank_obj.deposit(500)\n",
        "bank_obj.withdraw(200)\n",
        "print(f\"Current Balance: {bank_obj.check_balance()}\")\n"
      ],
      "metadata": {
        "colab": {
          "base_uri": "https://localhost:8080/"
        },
        "id": "yLqEPwuZtcOr",
        "outputId": "a10ba5a8-edbd-42cb-aab4-bb2cc0f01d71"
      },
      "execution_count": 5,
      "outputs": [
        {
          "output_type": "stream",
          "name": "stdout",
          "text": [
            "Current Balance: 1300\n"
          ]
        }
      ]
    },
    {
      "cell_type": "code",
      "source": [
        "#6. Demonstrate runtime polymorphism using a method play() in a base class Instrument. Derive classes Guitar\n",
        "#and Piano that implement their own version of play()\n",
        "# Base class\n",
        "class Instrument:\n",
        "    def play(self):\n",
        "        print(\"Playing an instrument\")\n",
        "\n",
        "# Derived class - Guitar\n",
        "class Guitar(Instrument):\n",
        "    def play(self):\n",
        "        print(\"Playing guitar\")\n",
        "\n",
        "# Derived class - Piano\n",
        "class Piano(Instrument):\n",
        "    def play(self):\n",
        "        print(\"Playing piano\")\n",
        "\n",
        "\n",
        "def start_playing(instrument_obj):\n",
        "    instrument_obj.play()  # Calls the version of play() for the actual object type at runtime\n",
        "\n",
        "# Usage\n",
        "instruments = [Guitar(), Piano(), Instrument()]\n",
        "\n",
        "for instr in instruments:\n",
        "    start_playing(instr)\n"
      ],
      "metadata": {
        "colab": {
          "base_uri": "https://localhost:8080/"
        },
        "id": "gjffB_BCuLno",
        "outputId": "498e29ab-61fb-4542-a948-42aaa55c2b5a"
      },
      "execution_count": 7,
      "outputs": [
        {
          "output_type": "stream",
          "name": "stdout",
          "text": [
            "Playing guitar\n",
            "Playing piano\n",
            "Playing an instrument\n"
          ]
        }
      ]
    },
    {
      "cell_type": "code",
      "source": [
        "#7.  Create a class MathOperations with a class method add_numbers() to add two numbers and a static\n",
        "#method subtract_numbers() to subtract two numbers\n",
        "\n",
        "class MathOperations:\n",
        "    # Class method\n",
        "    @classmethod\n",
        "    def add_numbers(cls, a, b):\n",
        "        return a + b\n",
        "\n",
        "    # Static method\n",
        "    @staticmethod\n",
        "    def subtract_numbers(a, b):\n",
        "        return a - b\n",
        "\n",
        "# Usage\n",
        "sum_result = MathOperations.add_numbers(10, 5)\n",
        "diff_result = MathOperations.subtract_numbers(10, 5)\n",
        "\n",
        "print(f\"Sum: {sum_result}\")\n",
        "print(f\"Difference: {diff_result}\")\n"
      ],
      "metadata": {
        "colab": {
          "base_uri": "https://localhost:8080/"
        },
        "id": "qF5BTNJouuBh",
        "outputId": "bf0b60da-ed28-4319-87a1-8d5fd9fc81dc"
      },
      "execution_count": 8,
      "outputs": [
        {
          "output_type": "stream",
          "name": "stdout",
          "text": [
            "Sum: 15\n",
            "Difference: 5\n"
          ]
        }
      ]
    },
    {
      "cell_type": "code",
      "source": [
        "#8.Implement a class Person with a class method to count the total number of persons created.\n",
        "\n",
        "class Person:\n",
        "    count = 0  #class variable\n",
        "\n",
        "    def __init__(self, name):\n",
        "        self.name = name\n",
        "        Person.count += 1\n",
        "\n",
        "    @classmethod\n",
        "    def total_persons(cls):\n",
        "        return cls.count\n",
        "\n",
        "# Usage\n",
        "p1 = Person(\"A\")\n",
        "p2 = Person(\"B\")\n",
        "p3 = Person(\"C\")\n",
        "\n",
        "print(f\"Total count: {Person.total_persons()}\")\n"
      ],
      "metadata": {
        "colab": {
          "base_uri": "https://localhost:8080/"
        },
        "id": "7uOjP1wgvLAY",
        "outputId": "47069ff7-f01c-485d-ac51-446b75838047"
      },
      "execution_count": 9,
      "outputs": [
        {
          "output_type": "stream",
          "name": "stdout",
          "text": [
            "Total count: 3\n"
          ]
        }
      ]
    },
    {
      "cell_type": "code",
      "source": [
        "#9. Write a class Fraction with attributes numerator and denominator. Override the str method to display the\n",
        "#fraction as \"numerator/denominator\".\n",
        "\n",
        "class Fraction:\n",
        "    def __init__(self, numerator, denominator):\n",
        "        self.numerator = numerator\n",
        "        self.denominator = denominator\n",
        "\n",
        "    def __str__(self):\n",
        "        return f\"{self.numerator}/{self.denominator}\"\n",
        "\n",
        "# Usage\n",
        "f1 = Fraction(6, 4)\n",
        "f2 = Fraction(5, 2)\n",
        "\n",
        "print(f1)\n",
        "print(f2)\n"
      ],
      "metadata": {
        "colab": {
          "base_uri": "https://localhost:8080/"
        },
        "id": "Q9dQ-q5sv6jn",
        "outputId": "110a13f6-4d6a-4707-8408-8e1577f14f11"
      },
      "execution_count": 10,
      "outputs": [
        {
          "output_type": "stream",
          "name": "stdout",
          "text": [
            "6/4\n",
            "5/2\n"
          ]
        }
      ]
    },
    {
      "cell_type": "code",
      "source": [
        "#10.  Demonstrate operator overloading by creating a class Vector and overriding the add method to add two\n",
        "#vectors.\n",
        "\n",
        "class Vector:\n",
        "    def __init__(self, x, y):\n",
        "        self.x = x\n",
        "        self.y = y\n",
        "\n",
        "    def __add__(self, other):\n",
        "        return Vector(self.x + other.x, self.y + other.y)\n",
        "\n",
        "    def __str__(self):\n",
        "        return f\"Vector({self.x}, {self.y})\"\n",
        "\n",
        "# Usage\n",
        "v1 = Vector(2, 3)\n",
        "v2 = Vector(4, 5)\n",
        "\n",
        "v3 = v1 + v2  # Calls __add__\n",
        "print(v3)     # Output: Vector(6, 8)\n"
      ],
      "metadata": {
        "colab": {
          "base_uri": "https://localhost:8080/"
        },
        "id": "U1GZlWeKwg4i",
        "outputId": "7e55bfb9-a2a5-458d-92e4-1fac5dad9b01"
      },
      "execution_count": 11,
      "outputs": [
        {
          "output_type": "stream",
          "name": "stdout",
          "text": [
            "Vector(6, 8)\n"
          ]
        }
      ]
    },
    {
      "cell_type": "code",
      "source": [
        "#11.  Create a class Person with attributes name and age. Add a method greet() that prints \"Hello, my name is\n",
        "#{name} and I am {age} years old.\"\n",
        "\n",
        "class Person:\n",
        "    def __init__(self, name, age):\n",
        "        self.name = name\n",
        "        self.age = age\n",
        "\n",
        "    def greet(self):\n",
        "        print(f\"Hello, my name is {self.name} and I am {self.age} years old.\")\n",
        "\n",
        "# Usage\n",
        "p1 = Person(\"Prateek\", 27)\n",
        "p1.greet()\n",
        "# Output: Hello, my name is Alice and I am 25 years old.\n"
      ],
      "metadata": {
        "colab": {
          "base_uri": "https://localhost:8080/"
        },
        "id": "Yw1ngemrw_Wp",
        "outputId": "24374176-7932-41d4-ffaa-919f42e77738"
      },
      "execution_count": 12,
      "outputs": [
        {
          "output_type": "stream",
          "name": "stdout",
          "text": [
            "Hello, my name is Prateek and I am 27 years old.\n"
          ]
        }
      ]
    },
    {
      "cell_type": "code",
      "source": [
        "#12.  Implement a class Student with attributes name and grades. Create a method average_grade() to compute\n",
        "#the average of the grades.\n",
        "\n",
        "class Student:\n",
        "  def __init__(self, name,grades):\n",
        "    self.name = name\n",
        "    self.grades = grades\n",
        "\n",
        "  def average_grade(self):\n",
        "    return sum(self.grades) / len(self.grades)\n",
        "\n",
        "st = Student(\"Prateek\", [80,90,40])\n",
        "print(st.average_grade())"
      ],
      "metadata": {
        "colab": {
          "base_uri": "https://localhost:8080/"
        },
        "id": "Zy7acGmjxazG",
        "outputId": "59327cbe-a658-40da-aaf5-cde6ff3eb546"
      },
      "execution_count": 16,
      "outputs": [
        {
          "output_type": "stream",
          "name": "stdout",
          "text": [
            "70.0\n"
          ]
        }
      ]
    },
    {
      "cell_type": "code",
      "source": [
        "#13. Create a class Rectangle with methods set_dimensions() to set the dimensions and area() to calculate the area\n",
        "\n",
        "class Rectangle:\n",
        "    def __init__(self):\n",
        "        self.length = 0\n",
        "        self.width = 0\n",
        "\n",
        "    def set_dimensions(self, length, width):\n",
        "        self.length = length\n",
        "        self.width = width\n",
        "\n",
        "    def area(self):\n",
        "        return self.length * self.width\n",
        "\n",
        "# Usage\n",
        "rect = Rectangle()\n",
        "rect.set_dimensions(10, 4)\n",
        "print(f\"Area of rectangle: {rect.area()}\")\n"
      ],
      "metadata": {
        "colab": {
          "base_uri": "https://localhost:8080/"
        },
        "id": "QIqVU1ayyn9o",
        "outputId": "0925408d-9692-4281-eefd-957ef7ad2cef"
      },
      "execution_count": 17,
      "outputs": [
        {
          "output_type": "stream",
          "name": "stdout",
          "text": [
            "Area of rectangle: 40\n"
          ]
        }
      ]
    },
    {
      "cell_type": "code",
      "source": [
        "#14.  Create a class Employee with a method calculate_salary() that computes the salary based on hours worked\n",
        "#and hourly rate. Create a derived class Manager that adds a bonus to the salary.\n",
        "\n",
        "class Employee:\n",
        "    def __init__(self, name, hours_worked, hourly_rate):\n",
        "        self.name = name\n",
        "        self.hours_worked = hours_worked\n",
        "        self.hourly_rate = hourly_rate\n",
        "\n",
        "    def calculate_salary(self):\n",
        "        return self.hours_worked * self.hourly_rate\n",
        "\n",
        "\n",
        "class Manager(Employee):\n",
        "    def __init__(self, name, hours_worked, hourly_rate, bonus):\n",
        "        super().__init__(name, hours_worked, hourly_rate)\n",
        "        self.bonus = bonus\n",
        "\n",
        "    def calculate_salary(self):\n",
        "        base_salary = super().calculate_salary()\n",
        "        return base_salary + self.bonus\n",
        "\n",
        "\n",
        "\n",
        "emp = Employee(\"Prateek\", 40, 20)\n",
        "mgr = Manager(\"Manager\", 45, 25, 500)\n",
        "\n",
        "print(f\"{emp.name}'s Salary: ${emp.calculate_salary()}\")\n",
        "print(f\"{mgr.name}'s Salary: ${mgr.calculate_salary()}\")\n"
      ],
      "metadata": {
        "colab": {
          "base_uri": "https://localhost:8080/"
        },
        "id": "cEJWgtbky6Uj",
        "outputId": "9dcb3f61-ed3a-4a86-9f6b-cfca68639182"
      },
      "execution_count": 19,
      "outputs": [
        {
          "output_type": "stream",
          "name": "stdout",
          "text": [
            "Prateek's Salary: $800\n",
            "Manager's Salary: $1625\n"
          ]
        }
      ]
    },
    {
      "cell_type": "code",
      "source": [
        "#15. Create a class Product with attributes name, price, and quantity. Implement a method total_price() that\n",
        "#calculates the total price of the product\n",
        "\n",
        "class Product:\n",
        "    def __init__(self, name, price, quantity):\n",
        "        self.name = name\n",
        "        self.price = price\n",
        "        self.quantity = quantity\n",
        "\n",
        "    def total_price(self):\n",
        "        return self.price * self.quantity\n",
        "\n",
        "\n",
        "\n",
        "p1 = Product(\"P1\", 500, 2)\n",
        "p2 = Product(\"P2\", 100, 3)\n",
        "\n",
        "print(f\"Total price of {p1.name}: ₹{p1.total_price()}\")\n",
        "print(f\"Total price of {p2.name}: ₹{p2.total_price()}\")\n"
      ],
      "metadata": {
        "colab": {
          "base_uri": "https://localhost:8080/"
        },
        "id": "QyVeKznOzPAh",
        "outputId": "ee788aef-a71d-49a0-9c26-7cb64cd4e9ab"
      },
      "execution_count": 20,
      "outputs": [
        {
          "output_type": "stream",
          "name": "stdout",
          "text": [
            "Total price of P1: ₹1000\n",
            "Total price of P2: ₹300\n"
          ]
        }
      ]
    },
    {
      "cell_type": "code",
      "source": [
        "#16.  Create a class Animal with an abstract method sound(). Create two derived classes Cow and Sheep that\n",
        "#implement the sound() method.\n",
        "\n",
        "from abc import ABC, abstractmethod\n",
        "\n",
        "# Abstract class\n",
        "class Animal(ABC):\n",
        "\n",
        "    @abstractmethod\n",
        "    def sound(self):\n",
        "        pass\n",
        "\n",
        "\n",
        "# Derived class Cow\n",
        "class Cow(Animal):\n",
        "    def sound(self):\n",
        "        return \"Moo\"\n",
        "\n",
        "\n",
        "# Derived class Sheep\n",
        "class Sheep(Animal):\n",
        "    def sound(self):\n",
        "        return \"Baa\"\n",
        "\n",
        "\n",
        "animals = [Cow(), Sheep()]\n",
        "\n",
        "for animal in animals:\n",
        "    print(f\"{animal.__class__.__name__} sound: {animal.sound()}\")\n"
      ],
      "metadata": {
        "colab": {
          "base_uri": "https://localhost:8080/"
        },
        "id": "sxkTyNKpzqDR",
        "outputId": "661a47af-82bc-4a09-d52d-61f8f07d548e"
      },
      "execution_count": 21,
      "outputs": [
        {
          "output_type": "stream",
          "name": "stdout",
          "text": [
            "Cow sound: Moo\n",
            "Sheep sound: Baa\n"
          ]
        }
      ]
    },
    {
      "cell_type": "code",
      "source": [
        "#17. Create a class Book with attributes title, author, and year_published. Add a method get_book_info() that\n",
        "#returns a formatted string with the book's details.\n",
        "\n",
        "class Book:\n",
        "    def __init__(self, title, author, year_published):\n",
        "        self.title = title\n",
        "        self.author = author\n",
        "        self.year_published = year_published\n",
        "\n",
        "    def get_book_info(self):\n",
        "        return f\"'{self.title}' by {self.author}, published in {self.year_published}\"\n",
        "\n",
        "\n",
        "# Example usage\n",
        "book1 = Book(\"Book 1\", \"Prateek\", 2025)\n",
        "book2 = Book(\"Book 2\", \"Author 2\", 2024)\n",
        "\n",
        "print(book1.get_book_info())\n",
        "print(book2.get_book_info())\n"
      ],
      "metadata": {
        "colab": {
          "base_uri": "https://localhost:8080/"
        },
        "id": "3HHwGzQb0gd7",
        "outputId": "7fc9687c-4c58-4e36-964a-092d8a5191a0"
      },
      "execution_count": 23,
      "outputs": [
        {
          "output_type": "stream",
          "name": "stdout",
          "text": [
            "'Book 1' by Prateek, published in 2025\n",
            "'Book 2' by Author 2, published in 2024\n"
          ]
        }
      ]
    },
    {
      "cell_type": "code",
      "source": [
        "#18. Create a class House with attributes address and price. Create a derived class Mansion that adds an\n",
        "#attribute number_of_rooms.\n",
        "\n",
        "class House:\n",
        "    def __init__(self, address, price):\n",
        "        self.address = address\n",
        "        self.price = price\n",
        "\n",
        "    def display_info(self):\n",
        "        return f\"Address: {self.address}, Price: ₹{self.price}\"\n",
        "\n",
        "\n",
        "class Mansion(House):\n",
        "    def __init__(self, address, price, number_of_rooms):\n",
        "        super().__init__(address, price)\n",
        "        self.number_of_rooms = number_of_rooms\n",
        "\n",
        "    def display_info(self):\n",
        "        return f\"Address: {self.address}, Price: ₹{self.price}, Rooms: {self.number_of_rooms}\"\n",
        "\n",
        "\n",
        "# Example usage\n",
        "house1 = House(\"Mumbai\", 10000000)\n",
        "mansion1 = Mansion(\"New York\", 20000000, 5)\n",
        "\n",
        "print(house1.display_info())\n",
        "print(mansion1.display_info())\n"
      ],
      "metadata": {
        "colab": {
          "base_uri": "https://localhost:8080/"
        },
        "id": "YcgaNFTi08G5",
        "outputId": "c4c2c214-c201-4bf7-a5a3-006d51e89766"
      },
      "execution_count": 24,
      "outputs": [
        {
          "output_type": "stream",
          "name": "stdout",
          "text": [
            "Address: Mumbai, Price: ₹10000000\n",
            "Address: New York, Price: ₹20000000, Rooms: 5\n"
          ]
        }
      ]
    }
  ]
}