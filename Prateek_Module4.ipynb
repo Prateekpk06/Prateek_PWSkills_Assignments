{
  "nbformat": 4,
  "nbformat_minor": 0,
  "metadata": {
    "colab": {
      "provenance": []
    },
    "kernelspec": {
      "name": "python3",
      "display_name": "Python 3"
    },
    "language_info": {
      "name": "python"
    }
  },
  "cells": [
    {
      "cell_type": "code",
      "execution_count": null,
      "metadata": {
        "id": "FJmKFXX-RUy8"
      },
      "outputs": [],
      "source": [
        "#Theory Questions:"
      ]
    },
    {
      "cell_type": "markdown",
      "source": [
        "1. What are data structures, and why are they important?\n",
        "-> Data Structures are ways of organizing and storing data so that it can be accessed and modified efficiently.\n",
        "Example: List, tuple,set dictionary string and so on.\n",
        "They are important so that we can store the data required for computation in them and use as necessary."
      ],
      "metadata": {
        "id": "SzSuj98wSddf"
      }
    },
    {
      "cell_type": "markdown",
      "source": [
        "2. Explain the difference between mutable and immutable data types with examples?\n",
        "-> Mutable data types mean data types where we can modify the original data and Immutable data types means data types where we cannot modify the data.\n",
        "both these types are important based on scenario if we want the functionality where we want to decide if we want to have the ability to modify the data or not.\n",
        "\n",
        "Mutable: List, dictionary etc are type of mutable data types where we can update/modify the original data.\n",
        "String/Tuple: are example of DS where we cannot update their orginal information. used to store critical non-updatable kind of data say user id of an employee etc."
      ],
      "metadata": {
        "id": "iHi1cp0YScy8"
      }
    },
    {
      "cell_type": "markdown",
      "source": [
        "3. What are the main differences between lists and tuples in Python?\n",
        "->The main difference between lists and tuple is that - lists are mutable and tuples are immutable. if we are storing any data which can be updated at later point of time - we have to use lists or when data should not be updated - then we have to use tuple.\n",
        "Syntax my_list = [1,2,3]\n",
        "my_tuple = (1,2,3)"
      ],
      "metadata": {
        "id": "Xpuls0zMTnhY"
      }
    },
    {
      "cell_type": "markdown",
      "source": [
        "4. Describe how dictionaries store data?\n",
        "-> Dictionary store the data in key value pair, where we can access al the values stored in dictionary using their respective keys.\n",
        "eg: my_dict = {'name': 'Prateek', 'class': 'Data science with Gen AI'}\n",
        "we can call; my_dict{'name'} to get the name of the student and so on. Values can be accessed via key."
      ],
      "metadata": {
        "id": "WRv3qObqUMci"
      }
    },
    {
      "cell_type": "markdown",
      "source": [
        "5. Why might you use a set instead of a list in Python?\n",
        "-> We will use set instead of a list when we only want unique elements and no duplicates."
      ],
      "metadata": {
        "id": "-1aYunnpUoKT"
      }
    },
    {
      "cell_type": "markdown",
      "source": [
        "6. What is a string in Python, and how is it different from a list?\n",
        "-> Strings are used to set a sequence of characters. String is a immutable data set whereas list is mutable. list can hold many different type of values at a time like number, string, float, boolean etc."
      ],
      "metadata": {
        "id": "USedLaEWVDVv"
      }
    },
    {
      "cell_type": "markdown",
      "source": [
        "7. How do tuples ensure data integrity in Python?\n",
        "->Tuples ensure data integrity mainly by being immutable — once a tuple is created, its contents cannot be changed. This property makes tuple preferred when we want to protect the data from modification."
      ],
      "metadata": {
        "id": "dZPp_XaEVhZ8"
      }
    },
    {
      "cell_type": "markdown",
      "source": [
        "8. What is a hash table, and how does it relate to dictionaries in Python?\n",
        "-> A hash table is a data structure that stores key-value pairs and allows fast access to values using their keys.\n",
        "Dictionaries are implemented using hash tables. i.e they access a block of memory using 'key' directly, saving lot of time looking up for data. Hash functions are used where this key is passed through these hash functions to locate the memory index."
      ],
      "metadata": {
        "id": "K32_7sXOV7oi"
      }
    },
    {
      "cell_type": "markdown",
      "source": [
        " 9. Can lists contain different data types in Python?\n",
        " -> Yes, lists can contain different types of data types like string, list themselves, float, boolean etc. It can hold heterogenous type of information at once.\n",
        " eg: my_list = [1,'Hello', True, 3.0, [1,2,3]] and so on"
      ],
      "metadata": {
        "id": "9En41amfWlxI"
      }
    },
    {
      "cell_type": "markdown",
      "source": [
        "10. Explain why strings are immutable in Python?\n",
        "-> Strings are immutable in python which means we cannot update any paricular character of a string. eg: my_str = \"hello\", we cannot do this operation: my_str[0] = 'K' # this doesn't change the value to 'Kello', it throws an error.\n",
        "\n",
        "why is this important?\n",
        "To ensure efficiency and consistency across python eg: strings are used as Key for dictionary as well. If these values can be updated/modified, it won't be possible to use keys for getting respective values from dictionary as well. because the keys could then be odified at any place and so on."
      ],
      "metadata": {
        "id": "Q8_-Rl8CW_p_"
      }
    },
    {
      "cell_type": "markdown",
      "source": [
        "11. What advantages do dictionaries offer over lists for certain tasks?\n",
        "-> Dictionaries are relatively quicker when operational efficiency is of concern, we can fetch the values quickly as data is stored in terms of hash tables. they are clearly mapped using key value combination and offer similar fuctionality as Lists in terms of built-in methods/functions. In lists, functions are based out on ordering like lst[0] etc where 0 is the index position, when data is huge it's better to access elements by their keys instead of index position."
      ],
      "metadata": {
        "id": "UOI7eVDbX8AD"
      }
    },
    {
      "cell_type": "markdown",
      "source": [
        "12. Describe a scenario where using a tuple would be preferable over a list?\n",
        "-> Any scenario where we do not want the data to be modified is when tuple is preferred over list. Eg: Employee id in any organization, they must be unique and non-modifiable. Always point to the same person. This is when you define a tuple which correctly stores the eployee id, without giving any option for modifying the data."
      ],
      "metadata": {
        "id": "OjXODSQ6Ysoa"
      }
    },
    {
      "cell_type": "markdown",
      "source": [
        "13. How do sets handle duplicate values in Python?\n",
        "-> Sets automaticlly removes the duplicate from the set element, they are hasable that means it checks all the memory locations if the item is already available in the set or not. if elements is present, it does not store the elemet again, if not - it adds the element to the set."
      ],
      "metadata": {
        "id": "wG1ej8-2ZE9N"
      }
    },
    {
      "cell_type": "markdown",
      "source": [
        "14. How does the “in” keyword work differently for lists and dictionaries?\n",
        "-> 'in' keyword in lists looks out fo value if present or not in list whereas in keyword in dctionary search by default only for key in the dicionary which makes search quicker.\n"
      ],
      "metadata": {
        "id": "ikfwrDueZxb6"
      }
    },
    {
      "cell_type": "markdown",
      "source": [
        "15. Can you modify the elements of a tuple? Explain why or why not?\n",
        "-> No we cannot modify tuple directly as by definition it is an immutable data structure but if elements inside tuple are mutable then these elements can be modified.\n",
        "eg: mt = (1,2,[2,3])\n",
        "mt[2][1] = 100\n",
        "mt -> (1,2,[100,3])"
      ],
      "metadata": {
        "id": "K3KCMDNUaUT5"
      }
    },
    {
      "cell_type": "markdown",
      "source": [
        "16. What is a nested dictionary, and give an example of its use case?\n",
        "-> Nested dictionary basically means dictionary inside a dictionary. eg: it can be used to maintain employee information like below:\n",
        "EMployee = {'100':{'name': 'Prateek', 'Salary': 10000}'101':{'name': 'XYZ', 'Salary':20000}} where 100 and 200 are keys to employees Prateek and XYZ respectively which can be their employee id. and inner dictionary holds all their information like name, salary and so on."
      ],
      "metadata": {
        "id": "kan5FjaRbepz"
      }
    },
    {
      "cell_type": "markdown",
      "source": [
        "17. Describe the time complexity of accessing elements in a dictionary?\n",
        "-> Values are stored in dictionary in form of Key and value pairs. These keys in turn are stored in a hash table using hash function which reduces the time require for accessing values. the time complexity is hence O(1)"
      ],
      "metadata": {
        "id": "bwJDwvGYcUYP"
      }
    },
    {
      "cell_type": "markdown",
      "source": [
        "18. In what situations are lists preferred over dictionaries?\n",
        "-> Generally for mathematical tasks where duplicate data could be present as well ordering is maintained. The activities where we need collection of values, we can use lists otherwise where data can be accessed through keys then we can go with dictionary."
      ],
      "metadata": {
        "id": "MhBCUJ1Ccqus"
      }
    },
    {
      "cell_type": "markdown",
      "source": [
        "19. Why are dictionaries considered unordered, and how does that affect data retrieval?\n",
        "-> Dictionaries are considered unordered as the index when you insert an element into dictionary and while retrieving the same element could be different. In Dictionary elements are accessed via 'keys' and not 'indexing'. This affects the data retrieval process because we do not know in which index the required data is present."
      ],
      "metadata": {
        "id": "-5To1_P4dzQ0"
      }
    },
    {
      "cell_type": "markdown",
      "source": [
        "20.  Explain the difference between a list and a dictionary in terms of data retrieval.\n",
        "-> In lists the data is stored in the same manner the way it is inserted in the list. the index is preserved. If we insert an element first, it will always remain in the first index whereas in dictionary there is no concept of indexing instead values are retrieved using a key-value combination. In terms of data retrieval, for lists- we have to loop through all elements of list to get the required value hence time required is O(n) whereas data is retrieved via key in dictionary which are stored in hash tables. Hence, time is O(1)."
      ],
      "metadata": {
        "id": "IEJxTtoyeStM"
      }
    },
    {
      "cell_type": "markdown",
      "source": [
        "#####Practical Questions#########"
      ],
      "metadata": {
        "id": "Gz3whJZwe5Sb"
      }
    },
    {
      "cell_type": "code",
      "source": [
        "#1. Write a code to create a string with your name and print it\n",
        "name = 'Prateek'\n",
        "print(name)\n"
      ],
      "metadata": {
        "colab": {
          "base_uri": "https://localhost:8080/"
        },
        "id": "_doKlbFxe9JN",
        "outputId": "27d9c0a5-97b7-41ea-bbc6-4c652f3ad47e"
      },
      "execution_count": 1,
      "outputs": [
        {
          "output_type": "stream",
          "name": "stdout",
          "text": [
            "Prateek\n"
          ]
        }
      ]
    },
    {
      "cell_type": "code",
      "source": [
        "#2 Write a code to find the length of the string \"Hello World\"\n",
        "str = 'Hello World'\n",
        "print(len(str))"
      ],
      "metadata": {
        "colab": {
          "base_uri": "https://localhost:8080/"
        },
        "id": "HHpJGseqfI7p",
        "outputId": "47717dbf-a72e-4ed2-c958-9ce6c4dd6324"
      },
      "execution_count": 2,
      "outputs": [
        {
          "output_type": "stream",
          "name": "stdout",
          "text": [
            "11\n"
          ]
        }
      ]
    },
    {
      "cell_type": "code",
      "source": [
        "#3 Write a code to slice the first 3 characters from the string \"Python Programming\"\n",
        "str = 'Python Programming'\n",
        "print(str[0:3])"
      ],
      "metadata": {
        "colab": {
          "base_uri": "https://localhost:8080/"
        },
        "id": "0B13uF2bfQZV",
        "outputId": "b7857864-0a16-4fe1-b334-b9ff63d3b902"
      },
      "execution_count": 3,
      "outputs": [
        {
          "output_type": "stream",
          "name": "stdout",
          "text": [
            "Pyt\n"
          ]
        }
      ]
    },
    {
      "cell_type": "markdown",
      "source": [],
      "metadata": {
        "id": "QCKevntue8Bu"
      }
    },
    {
      "cell_type": "code",
      "source": [
        "#4 Write a code to convert the string \"hello\" to uppercase\n",
        "str = \"hello\"\n",
        "print(str.upper())\n"
      ],
      "metadata": {
        "colab": {
          "base_uri": "https://localhost:8080/"
        },
        "id": "jXeCrzJ1fblM",
        "outputId": "c96fcec1-a2cf-49ba-dc6c-3f79c0ef9475"
      },
      "execution_count": 4,
      "outputs": [
        {
          "output_type": "stream",
          "name": "stdout",
          "text": [
            "HELLO\n"
          ]
        }
      ]
    },
    {
      "cell_type": "code",
      "source": [
        "#5 Write a code to replace the word \"apple\" with \"orange\" in the string \"I like apple\"\n",
        "str = \"I like apple\"\n",
        "updated_str = str.replace(\"apple\", \"orange\")\n",
        "print(updated_str)"
      ],
      "metadata": {
        "colab": {
          "base_uri": "https://localhost:8080/"
        },
        "id": "cUnU-UFpfmdB",
        "outputId": "71c75693-3425-4cf9-e114-6d131fae2510"
      },
      "execution_count": 5,
      "outputs": [
        {
          "output_type": "stream",
          "name": "stdout",
          "text": [
            "I like orange\n"
          ]
        }
      ]
    },
    {
      "cell_type": "code",
      "source": [
        "#6 Write a code to create a list with numbers 1 to 5 and print it\n",
        "my_list = [1,2,3,4,5]\n",
        "print(my_list)"
      ],
      "metadata": {
        "colab": {
          "base_uri": "https://localhost:8080/"
        },
        "id": "3IbFWc0Cf5bL",
        "outputId": "09b0b450-abda-4a9b-a319-5e866754cc4e"
      },
      "execution_count": 6,
      "outputs": [
        {
          "output_type": "stream",
          "name": "stdout",
          "text": [
            "[1, 2, 3, 4, 5]\n"
          ]
        }
      ]
    },
    {
      "cell_type": "code",
      "source": [
        "#7 P Write a code to append the number 10 to the list [1, 2, 3, 4]\n",
        "my_list = [1,2,3,4]\n",
        "my_list.append(10)\n",
        "print(my_list)"
      ],
      "metadata": {
        "colab": {
          "base_uri": "https://localhost:8080/"
        },
        "id": "5rm9FmWlf-le",
        "outputId": "9b613666-df33-4df7-be4b-ab1fc3aa77cc"
      },
      "execution_count": 7,
      "outputs": [
        {
          "output_type": "stream",
          "name": "stdout",
          "text": [
            "[1, 2, 3, 4, 10]\n"
          ]
        }
      ]
    },
    {
      "cell_type": "code",
      "source": [
        "#8 Write a code to remove the number 3 from the list [1, 2, 3, 4, 5]\n",
        "my_list = [1,2,3,4,5]\n",
        "my_list.remove(3)\n",
        "print(my_list)"
      ],
      "metadata": {
        "colab": {
          "base_uri": "https://localhost:8080/"
        },
        "id": "poHclWopgEth",
        "outputId": "5aef8e0f-43e0-4b77-e3c7-838c56b355eb"
      },
      "execution_count": 8,
      "outputs": [
        {
          "output_type": "stream",
          "name": "stdout",
          "text": [
            "[1, 2, 4, 5]\n"
          ]
        }
      ]
    },
    {
      "cell_type": "code",
      "source": [
        "#9 Write a code to access the second element in the list ['a', 'b', 'c', 'd']\n",
        "my_list = ['a', 'b', 'c', 'd']\n",
        "print(my_list[1])"
      ],
      "metadata": {
        "colab": {
          "base_uri": "https://localhost:8080/"
        },
        "id": "lIS_ogsXgLIA",
        "outputId": "ea15c3de-f6c2-43df-ef6e-7c01b33d916c"
      },
      "execution_count": 9,
      "outputs": [
        {
          "output_type": "stream",
          "name": "stdout",
          "text": [
            "b\n"
          ]
        }
      ]
    },
    {
      "cell_type": "code",
      "source": [
        "#10. Write a code to reverse the list [10, 20, 30, 40, 50].\n",
        "my_list = [10, 20, 30, 40, 50]\n",
        "my_list.reverse()\n",
        "print(my_list)\n"
      ],
      "metadata": {
        "colab": {
          "base_uri": "https://localhost:8080/"
        },
        "id": "BbYd3bSIgQG1",
        "outputId": "ff81e25c-f641-4470-a55a-d09821553a96"
      },
      "execution_count": 10,
      "outputs": [
        {
          "output_type": "stream",
          "name": "stdout",
          "text": [
            "[50, 40, 30, 20, 10]\n"
          ]
        }
      ]
    },
    {
      "cell_type": "code",
      "source": [
        "#11 Write a code to create a tuple with the elements 100, 200, 300 and print it\n",
        "my_tuple = (100,200,300)\n",
        "print(my_tuple)"
      ],
      "metadata": {
        "colab": {
          "base_uri": "https://localhost:8080/"
        },
        "id": "tUVkEbdrgW1w",
        "outputId": "792e4625-8a09-4978-86f8-2eb909510355"
      },
      "execution_count": 11,
      "outputs": [
        {
          "output_type": "stream",
          "name": "stdout",
          "text": [
            "(100, 200, 300)\n"
          ]
        }
      ]
    },
    {
      "cell_type": "code",
      "source": [
        "#12 Write a code to access the second-to-last element of the tuple ('red', 'green', 'blue', 'yellow').\n",
        "my_tuple = ('red', 'green', 'blue', 'yellow')\n",
        "print(my_tuple[-2])"
      ],
      "metadata": {
        "colab": {
          "base_uri": "https://localhost:8080/"
        },
        "id": "zcdAbtsWgb52",
        "outputId": "6fd48520-d268-44d8-ece1-7942edcbd348"
      },
      "execution_count": 12,
      "outputs": [
        {
          "output_type": "stream",
          "name": "stdout",
          "text": [
            "blue\n"
          ]
        }
      ]
    },
    {
      "cell_type": "code",
      "source": [
        "#13  Write a code to find the minimum number in the tuple (10, 20, 5, 15)\n",
        "my_tuple = (10, 20, 5, 15)\n",
        "print(min(my_tuple))"
      ],
      "metadata": {
        "colab": {
          "base_uri": "https://localhost:8080/"
        },
        "id": "9v8gTj3-gh7C",
        "outputId": "99d748e4-0eb4-41dd-fceb-c36cebdd240d"
      },
      "execution_count": 13,
      "outputs": [
        {
          "output_type": "stream",
          "name": "stdout",
          "text": [
            "5\n"
          ]
        }
      ]
    },
    {
      "cell_type": "code",
      "source": [
        "#14  Write a code to find the index of the element \"cat\" in the tuple ('dog', 'cat', 'rabbit')\n",
        "t = ('dog', 'cat', 'rabbit')\n",
        "ind = t.index('cat')\n",
        "print (ind)"
      ],
      "metadata": {
        "colab": {
          "base_uri": "https://localhost:8080/"
        },
        "id": "7hZ5NVjngmhN",
        "outputId": "0ee9f444-0d02-4215-9bfa-860741f3b047"
      },
      "execution_count": 14,
      "outputs": [
        {
          "output_type": "stream",
          "name": "stdout",
          "text": [
            "1\n"
          ]
        }
      ]
    },
    {
      "cell_type": "code",
      "source": [
        "#15 Write a code to create a tuple containing three different fruits and check if \"kiwi\" is in it.\n",
        "t= ('apple', 'orange', 'kiwi')\n",
        "\n",
        "print ('kiwi' in t)"
      ],
      "metadata": {
        "colab": {
          "base_uri": "https://localhost:8080/"
        },
        "id": "bx7vlRcVhB0z",
        "outputId": "a565f8e3-4462-42e6-ee71-ca70c2380021"
      },
      "execution_count": 15,
      "outputs": [
        {
          "output_type": "stream",
          "name": "stdout",
          "text": [
            "True\n"
          ]
        }
      ]
    },
    {
      "cell_type": "code",
      "source": [
        "#16  Write a code to create a set with the elements 'a', 'b', 'c' and print it\n",
        "my_set = {'a', 'b', 'c'}\n",
        "print(my_set)"
      ],
      "metadata": {
        "colab": {
          "base_uri": "https://localhost:8080/"
        },
        "id": "-FlHO0nlhUSB",
        "outputId": "f73d5596-fd16-4fa9-dcb1-5d3e01a022d1"
      },
      "execution_count": 16,
      "outputs": [
        {
          "output_type": "stream",
          "name": "stdout",
          "text": [
            "{'c', 'b', 'a'}\n"
          ]
        }
      ]
    },
    {
      "cell_type": "code",
      "source": [
        "#17 Write a code to clear all elements from the set {1, 2, 3, 4, 5}.\n",
        "my_set = {1, 2, 3, 4, 5}\n",
        "my_set.clear()\n",
        "print(my_set)"
      ],
      "metadata": {
        "colab": {
          "base_uri": "https://localhost:8080/"
        },
        "id": "a6MjXdhShZh1",
        "outputId": "57a307d2-0c11-42af-eec9-25a3df7700f1"
      },
      "execution_count": 17,
      "outputs": [
        {
          "output_type": "stream",
          "name": "stdout",
          "text": [
            "set()\n"
          ]
        }
      ]
    },
    {
      "cell_type": "code",
      "source": [
        "#18 Write a code to remove the element 4 from the set {1, 2, 3, 4}\n",
        "my_set = {1, 2, 3, 4}\n",
        "my_set.remove(4)\n",
        "print(my_set)"
      ],
      "metadata": {
        "colab": {
          "base_uri": "https://localhost:8080/"
        },
        "id": "Cd0GKm-Qhe9X",
        "outputId": "33216dec-12d1-4859-c575-a1f117eb6615"
      },
      "execution_count": 18,
      "outputs": [
        {
          "output_type": "stream",
          "name": "stdout",
          "text": [
            "{1, 2, 3}\n"
          ]
        }
      ]
    },
    {
      "cell_type": "code",
      "source": [
        "#19 Write a code to find the union of two sets {1, 2, 3} and {3, 4, 5}.\n",
        "set1 = {1, 2, 3}\n",
        "set2 = {3, 4, 5}\n",
        "print(set1.union(set2))"
      ],
      "metadata": {
        "colab": {
          "base_uri": "https://localhost:8080/"
        },
        "id": "jdhizi_LhkZI",
        "outputId": "67330ea3-3e35-4126-a1e5-e227e83a2ec8"
      },
      "execution_count": 19,
      "outputs": [
        {
          "output_type": "stream",
          "name": "stdout",
          "text": [
            "{1, 2, 3, 4, 5}\n"
          ]
        }
      ]
    },
    {
      "cell_type": "code",
      "source": [
        "#20 Write a code to find the intersection of two sets {1, 2, 3} and {2, 3, 4}\n",
        "set1 = {1, 2, 3}\n",
        "set2 = {2, 3, 4}\n",
        "print(set1.intersection(set2))"
      ],
      "metadata": {
        "colab": {
          "base_uri": "https://localhost:8080/"
        },
        "id": "FOwssF1Whob6",
        "outputId": "9d94d05d-982e-4da7-9d10-9dc4961a8838"
      },
      "execution_count": 20,
      "outputs": [
        {
          "output_type": "stream",
          "name": "stdout",
          "text": [
            "{2, 3}\n"
          ]
        }
      ]
    },
    {
      "cell_type": "code",
      "source": [
        "#21 Write a code to create a dictionary with the keys \"name\", \"age\", and \"city\", and print it\n",
        "dict = {'name': 'abc', 'age': 20, 'city': 'xyz'}\n",
        "print(dict)"
      ],
      "metadata": {
        "colab": {
          "base_uri": "https://localhost:8080/"
        },
        "id": "W0eYB0eEh6XN",
        "outputId": "fde588ca-7637-4bfb-d6ce-90e6578f426b"
      },
      "execution_count": 21,
      "outputs": [
        {
          "output_type": "stream",
          "name": "stdout",
          "text": [
            "{'name': 'abc', 'age': 20, 'city': 'xyz'}\n"
          ]
        }
      ]
    },
    {
      "cell_type": "code",
      "source": [
        "#22  Write a code to add a new key-value pair \"country\": \"USA\" to the dictionary {'name': 'John', 'age': 25}\n",
        "dict = {'name': 'John', 'age': 25}\n",
        "dict['country'] = 'USA'\n",
        "print(dict)"
      ],
      "metadata": {
        "colab": {
          "base_uri": "https://localhost:8080/"
        },
        "id": "ETBU2TaeiGXV",
        "outputId": "37995561-1306-4aaa-ebb7-2f7da169b73c"
      },
      "execution_count": 22,
      "outputs": [
        {
          "output_type": "stream",
          "name": "stdout",
          "text": [
            "{'name': 'John', 'age': 25, 'country': 'USA'}\n"
          ]
        }
      ]
    },
    {
      "cell_type": "code",
      "source": [
        "#23 Write a code to access the value associated with the key \"name\" in the dictionary {'name': 'Alice', 'age': 30}.\n",
        "dict = {'name': 'Alice', 'age': 30}\n",
        "print(dict['name'])"
      ],
      "metadata": {
        "colab": {
          "base_uri": "https://localhost:8080/"
        },
        "id": "DA5nUnJbiO87",
        "outputId": "2007f566-5cff-4708-f141-bd1c76ea781f"
      },
      "execution_count": 23,
      "outputs": [
        {
          "output_type": "stream",
          "name": "stdout",
          "text": [
            "Alice\n"
          ]
        }
      ]
    },
    {
      "cell_type": "code",
      "source": [
        "#24 Write a code to remove the key \"age\" from the dictionary {'name': 'Bob', 'age': 22, 'city': 'New York'}.\n",
        "dict = {'name': 'Bob', 'age': 22, 'city': 'New York'}\n",
        "dict.pop('age')\n",
        "print(dict)"
      ],
      "metadata": {
        "colab": {
          "base_uri": "https://localhost:8080/"
        },
        "id": "ljHOme4AiT9O",
        "outputId": "be63e321-d204-4fa2-9646-13d2c7bc0a16"
      },
      "execution_count": 24,
      "outputs": [
        {
          "output_type": "stream",
          "name": "stdout",
          "text": [
            "{'name': 'Bob', 'city': 'New York'}\n"
          ]
        }
      ]
    },
    {
      "cell_type": "code",
      "source": [
        "#25  Write a code to check if the key \"city\" exists in the dictionary {'name': 'Alice', 'city': 'Paris'}.\n",
        "dict = {'name': 'Alice', 'city': 'Paris'}\n",
        "print('city' in dict)"
      ],
      "metadata": {
        "colab": {
          "base_uri": "https://localhost:8080/"
        },
        "id": "kwBE9k7MiZGk",
        "outputId": "b32acef5-8e5e-4c53-a579-f7bdb2c74d25"
      },
      "execution_count": 25,
      "outputs": [
        {
          "output_type": "stream",
          "name": "stdout",
          "text": [
            "True\n"
          ]
        }
      ]
    },
    {
      "cell_type": "code",
      "source": [
        "#26  Write a code to create a list, a tuple, and a dictionary, and print them all.\n",
        "my_list = [1,2,3]\n",
        "my_tuple = (1,2,3)\n",
        "my_dict = {'name': 'abc', 'age': 20, 'city': 'xyz'}\n",
        "print(my_list)\n",
        "print(my_tuple)\n",
        "print(my_dict)"
      ],
      "metadata": {
        "colab": {
          "base_uri": "https://localhost:8080/"
        },
        "id": "Ll-rPUpxie-x",
        "outputId": "acf024cc-6f03-4a34-b8c1-feffd8122688"
      },
      "execution_count": 27,
      "outputs": [
        {
          "output_type": "stream",
          "name": "stdout",
          "text": [
            "[1, 2, 3]\n",
            "(1, 2, 3)\n",
            "{'name': 'abc', 'age': 20, 'city': 'xyz'}\n"
          ]
        }
      ]
    },
    {
      "cell_type": "code",
      "source": [
        "#27  Write a code to create a list of 5 random numbers between 1 and 100, sort it in ascending order, and print the result.(replaced)\n",
        "import random\n",
        "l = []\n",
        "#generating a list of 5 random numbers between 1 to 100\n",
        "l = random.sample(range(1,101),5)\n",
        "#Soring list item\n",
        "l.sort()\n",
        "print(l)\n"
      ],
      "metadata": {
        "colab": {
          "base_uri": "https://localhost:8080/"
        },
        "id": "FwetZLBQiinr",
        "outputId": "8a305969-892b-4089-e541-db134356cfb1"
      },
      "execution_count": 31,
      "outputs": [
        {
          "output_type": "stream",
          "name": "stdout",
          "text": [
            "[49, 58, 68, 71, 78]\n"
          ]
        }
      ]
    },
    {
      "cell_type": "code",
      "source": [
        "#28 Write a code to create a list with strings and print the element at the third index\n",
        "my_list = ['abc', 'xyz', 'pqr', 'lmn']\n",
        "print(my_list[3])"
      ],
      "metadata": {
        "colab": {
          "base_uri": "https://localhost:8080/"
        },
        "id": "W6zTdrMQjY9R",
        "outputId": "5b310feb-87d0-4e7d-88b8-e14abbfbd620"
      },
      "execution_count": 33,
      "outputs": [
        {
          "output_type": "stream",
          "name": "stdout",
          "text": [
            "lmn\n"
          ]
        }
      ]
    },
    {
      "cell_type": "code",
      "source": [
        "#29  Write a code to combine two dictionaries into one and print the result.\n",
        "dic1 = {'name': 'Prateek', 'age': 20}\n",
        "dic2 = {'company': 'xyz', 'designation':'pqr'}\n",
        "\n",
        "#Combined dictionary\n",
        "new_dic = dic1 | dic2\n",
        "print(new_dic)"
      ],
      "metadata": {
        "colab": {
          "base_uri": "https://localhost:8080/"
        },
        "id": "ZBgNgHXSjmfE",
        "outputId": "4d62a9c2-7184-4ae7-c9a0-b1524d8d0c6c"
      },
      "execution_count": 34,
      "outputs": [
        {
          "output_type": "stream",
          "name": "stdout",
          "text": [
            "{'name': 'Prateek', 'age': 20, 'company': 'xyz', 'designation': 'pqr'}\n"
          ]
        }
      ]
    },
    {
      "cell_type": "code",
      "source": [
        "#30  Write a code to convert a list of strings into a set.\n",
        "\n",
        "my_lst = ['apple', 'mango', 'hello', 'world']\n",
        "my_set  = set(my_lst)\n",
        "print(my_set)"
      ],
      "metadata": {
        "colab": {
          "base_uri": "https://localhost:8080/"
        },
        "id": "4sxTqBKekDYh",
        "outputId": "07da192e-f2dd-4e7b-85d8-d4758b925229"
      },
      "execution_count": 35,
      "outputs": [
        {
          "output_type": "stream",
          "name": "stdout",
          "text": [
            "{'hello', 'apple', 'mango', 'world'}\n"
          ]
        }
      ]
    }
  ]
}